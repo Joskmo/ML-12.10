{
  "nbformat": 4,
  "nbformat_minor": 0,
  "metadata": {
    "colab": {
      "provenance": []
    },
    "kernelspec": {
      "name": "python3",
      "display_name": "Python 3"
    },
    "language_info": {
      "name": "python"
    }
  },
  "cells": [
    {
      "cell_type": "code",
      "execution_count": 67,
      "metadata": {
        "id": "IUUeLiLC6YFr",
        "colab": {
          "base_uri": "https://localhost:8080/"
        },
        "outputId": "6f3b3fe0-5d5f-4a27-dff6-b0fe1dfa0f6f"
      },
      "outputs": [
        {
          "output_type": "execute_result",
          "data": {
            "text/plain": [
              "array([2.86726215e-316, 0.00000000e+000, 0.00000000e+000, 0.00000000e+000,\n",
              "       3.28094598e-085, 1.08645885e-071, 1.74248988e-076, 7.78817096e-091,\n",
              "       6.23466669e+174, 6.01347153e-154])"
            ]
          },
          "metadata": {},
          "execution_count": 67
        }
      ],
      "source": [
        "import numpy as np\n",
        "np.random.seed(0)\n",
        "\n",
        "def computation(p_values):\n",
        "  output = np.empty(len(p_values))\n",
        "\n",
        "  for i in range(len(p_values)):\n",
        "    output[i]=1.0/p_values[i]\n",
        "\n",
        "  return output\n",
        "\n"
      ]
    },
    {
      "cell_type": "code",
      "source": [
        "values = np.random.randint(1,10,size=5)\n",
        "values"
      ],
      "metadata": {
        "id": "NxGdN7eG6tzB",
        "colab": {
          "base_uri": "https://localhost:8080/"
        },
        "outputId": "6e60f5cb-b785-4f5b-b692-ebc5b7a71aeb"
      },
      "execution_count": 60,
      "outputs": [
        {
          "output_type": "execute_result",
          "data": {
            "text/plain": [
              "array([6, 1, 4, 4, 8])"
            ]
          },
          "metadata": {},
          "execution_count": 60
        }
      ]
    },
    {
      "cell_type": "code",
      "source": [
        "computation(p_values = values)"
      ],
      "metadata": {
        "id": "XvKDRSDz60qf",
        "colab": {
          "base_uri": "https://localhost:8080/"
        },
        "outputId": "24a9e286-df65-4574-9135-e5dd97134768"
      },
      "execution_count": 61,
      "outputs": [
        {
          "output_type": "execute_result",
          "data": {
            "text/plain": [
              "array([0.16666667, 1.        , 0.25      , 0.25      , 0.125     ])"
            ]
          },
          "metadata": {},
          "execution_count": 61
        }
      ]
    },
    {
      "cell_type": "code",
      "source": [
        "big_array = np.random.randint(1,100,size=1000000)\n",
        "%timeit computation(p_values = big_array)"
      ],
      "metadata": {
        "id": "UW8kr0Sm8UEy",
        "colab": {
          "base_uri": "https://localhost:8080/"
        },
        "outputId": "8a321e29-3b41-49ee-e9d7-0cc90b4f1145"
      },
      "execution_count": 62,
      "outputs": [
        {
          "output_type": "stream",
          "name": "stdout",
          "text": [
            "2.73 s ± 153 ms per loop (mean ± std. dev. of 7 runs, 1 loop each)\n"
          ]
        }
      ]
    },
    {
      "cell_type": "code",
      "source": [
        "%timeit 1.0/big_array"
      ],
      "metadata": {
        "id": "CqQ8hZLu8XOo",
        "colab": {
          "base_uri": "https://localhost:8080/"
        },
        "outputId": "912786c2-6266-4168-c70f-5039038c0066"
      },
      "execution_count": 63,
      "outputs": [
        {
          "output_type": "stream",
          "name": "stdout",
          "text": [
            "1.48 ms ± 205 µs per loop (mean ± std. dev. of 7 runs, 1000 loops each)\n"
          ]
        }
      ]
    },
    {
      "cell_type": "code",
      "source": [
        "%timeit sum(big_array)"
      ],
      "metadata": {
        "id": "cSL3MmsS8hiG",
        "colab": {
          "base_uri": "https://localhost:8080/"
        },
        "outputId": "5d1f014a-39cc-4c21-f55f-cd735f3898e7"
      },
      "execution_count": 64,
      "outputs": [
        {
          "output_type": "stream",
          "name": "stdout",
          "text": [
            "96.8 ms ± 17.8 ms per loop (mean ± std. dev. of 7 runs, 10 loops each)\n"
          ]
        }
      ]
    },
    {
      "cell_type": "code",
      "source": [
        "%timeit np.sum(big_array)"
      ],
      "metadata": {
        "id": "Os72FUVp8uBL",
        "colab": {
          "base_uri": "https://localhost:8080/"
        },
        "outputId": "98634cb1-46b4-4136-f3ef-98573875b400"
      },
      "execution_count": 65,
      "outputs": [
        {
          "output_type": "stream",
          "name": "stdout",
          "text": [
            "901 µs ± 247 µs per loop (mean ± std. dev. of 7 runs, 1000 loops each)\n"
          ]
        }
      ]
    },
    {
      "cell_type": "code",
      "source": [],
      "metadata": {
        "id": "wZCcwfJK_evu"
      },
      "execution_count": null,
      "outputs": []
    },
    {
      "cell_type": "code",
      "source": [
        "#np.ones\n",
        "ones = np.ones((3,5), dtype=np.float32)\n",
        "ones"
      ],
      "metadata": {
        "id": "u8-Z7sYr_fOL",
        "colab": {
          "base_uri": "https://localhost:8080/"
        },
        "outputId": "406ed78c-450e-4030-d294-018039fa14e8"
      },
      "execution_count": 68,
      "outputs": [
        {
          "output_type": "execute_result",
          "data": {
            "text/plain": [
              "array([[1., 1., 1., 1., 1.],\n",
              "       [1., 1., 1., 1., 1.],\n",
              "       [1., 1., 1., 1., 1.]], dtype=float32)"
            ]
          },
          "metadata": {},
          "execution_count": 68
        }
      ]
    },
    {
      "cell_type": "code",
      "source": [
        "#np.zeros\n",
        "zeros = np.zeros((6,2), dtype=np.float32)\n",
        "zeros"
      ],
      "metadata": {
        "id": "n0kifKoF_uUO",
        "colab": {
          "base_uri": "https://localhost:8080/"
        },
        "outputId": "76b5cbf3-377e-428d-85a4-d1ee2a71863d"
      },
      "execution_count": 69,
      "outputs": [
        {
          "output_type": "execute_result",
          "data": {
            "text/plain": [
              "array([[0., 0.],\n",
              "       [0., 0.],\n",
              "       [0., 0.],\n",
              "       [0., 0.],\n",
              "       [0., 0.],\n",
              "       [0., 0.]], dtype=float32)"
            ]
          },
          "metadata": {},
          "execution_count": 69
        }
      ]
    },
    {
      "cell_type": "code",
      "source": [
        "#создания массива \n",
        "array=np.arange(1334, 1338)\n",
        "array"
      ],
      "metadata": {
        "id": "1stv8SmzAmeC",
        "colab": {
          "base_uri": "https://localhost:8080/"
        },
        "outputId": "ae8222e8-80a5-4fc2-b0e6-58c4c7b037aa"
      },
      "execution_count": 70,
      "outputs": [
        {
          "output_type": "execute_result",
          "data": {
            "text/plain": [
              "array([1334, 1335, 1336, 1337])"
            ]
          },
          "metadata": {},
          "execution_count": 70
        }
      ]
    },
    {
      "cell_type": "code",
      "source": [
        "#соединение массивов\n",
        "ones = np.ones((2,3))\n",
        "zeros = np.zeros((4,3))\n",
        "new = np.concatenate([ones,zeros])\n",
        "new"
      ],
      "metadata": {
        "id": "V9Ur8SC0A9YQ",
        "colab": {
          "base_uri": "https://localhost:8080/"
        },
        "outputId": "2270142b-8635-473d-d903-f038aff14272"
      },
      "execution_count": 75,
      "outputs": [
        {
          "output_type": "execute_result",
          "data": {
            "text/plain": [
              "array([[1., 1., 1.],\n",
              "       [1., 1., 1.],\n",
              "       [1., 1., 1.],\n",
              "       [0., 0., 0.],\n",
              "       [0., 0., 0.],\n",
              "       [0., 0., 0.]])"
            ]
          },
          "metadata": {},
          "execution_count": 75
        }
      ]
    },
    {
      "cell_type": "code",
      "source": [
        "#соединение массивов\n",
        "ones = np.ones((4,1))\n",
        "zeros = np.zeros((4,2))\n",
        "new = np.concatenate([ones,zeros], axis=1)\n",
        "new"
      ],
      "metadata": {
        "id": "JKNVnP0pBUG5",
        "colab": {
          "base_uri": "https://localhost:8080/"
        },
        "outputId": "6f2b6e85-cbce-4de9-c49e-339ce486d32c"
      },
      "execution_count": 74,
      "outputs": [
        {
          "output_type": "execute_result",
          "data": {
            "text/plain": [
              "array([[1., 0., 0.],\n",
              "       [1., 0., 0.],\n",
              "       [1., 0., 0.],\n",
              "       [1., 0., 0.]])"
            ]
          },
          "metadata": {},
          "execution_count": 74
        }
      ]
    },
    {
      "cell_type": "code",
      "source": [
        "A = np.array([[4670.5,4670.5,4670.5],\n",
        "              [4670.5,4670.5,4670.5],\n",
        "              [4670.5,4670.7,4670.5]])\n",
        "\n",
        "A.astype(np.uint16)"
      ],
      "metadata": {
        "id": "mvRJ4oJjBoqC",
        "colab": {
          "base_uri": "https://localhost:8080/"
        },
        "outputId": "d2bc94b7-9663-458d-9f15-13bd5e142f24"
      },
      "execution_count": 76,
      "outputs": [
        {
          "output_type": "execute_result",
          "data": {
            "text/plain": [
              "array([[4670, 4670, 4670],\n",
              "       [4670, 4670, 4670],\n",
              "       [4670, 4670, 4670]], dtype=uint16)"
            ]
          },
          "metadata": {},
          "execution_count": 76
        }
      ]
    },
    {
      "cell_type": "code",
      "source": [
        "A = np.ones((2,2,3))\n",
        "print(A)\n",
        "print(\"------------------\")\n",
        "B = np.zeros_like(A)\n",
        "print(B)"
      ],
      "metadata": {
        "id": "q8PGLiBOCWyM",
        "colab": {
          "base_uri": "https://localhost:8080/"
        },
        "outputId": "1c28917b-815e-41aa-bf4a-08c0bbd27554"
      },
      "execution_count": 77,
      "outputs": [
        {
          "output_type": "stream",
          "name": "stdout",
          "text": [
            "[[[1. 1. 1.]\n",
            "  [1. 1. 1.]]\n",
            "\n",
            " [[1. 1. 1.]\n",
            "  [1. 1. 1.]]]\n",
            "------------------\n",
            "[[[0. 0. 0.]\n",
            "  [0. 0. 0.]]\n",
            "\n",
            " [[0. 0. 0.]\n",
            "  [0. 0. 0.]]]\n"
          ]
        }
      ]
    },
    {
      "cell_type": "code",
      "source": [
        "A = np.random.random((10,3))\n",
        "A"
      ],
      "metadata": {
        "id": "aCr5xBQRCqMW",
        "colab": {
          "base_uri": "https://localhost:8080/"
        },
        "outputId": "97623d15-bc4f-4e40-a5ce-4acd5ebf9593"
      },
      "execution_count": 81,
      "outputs": [
        {
          "output_type": "execute_result",
          "data": {
            "text/plain": [
              "array([[0.56843395, 0.0187898 , 0.6176355 ],\n",
              "       [0.61209572, 0.616934  , 0.94374808],\n",
              "       [0.6818203 , 0.3595079 , 0.43703195],\n",
              "       [0.6976312 , 0.06022547, 0.66676672],\n",
              "       [0.67063787, 0.21038256, 0.1289263 ],\n",
              "       [0.31542835, 0.36371077, 0.57019677],\n",
              "       [0.43860151, 0.98837384, 0.10204481],\n",
              "       [0.20887676, 0.16130952, 0.65310833],\n",
              "       [0.2532916 , 0.46631077, 0.24442559],\n",
              "       [0.15896958, 0.11037514, 0.65632959]])"
            ]
          },
          "metadata": {},
          "execution_count": 81
        }
      ]
    },
    {
      "cell_type": "code",
      "source": [
        "a = np.arange(8).reshape(2,2,2)\n",
        "print(a)\n"
      ],
      "metadata": {
        "id": "XwAX1NucLR4C",
        "colab": {
          "base_uri": "https://localhost:8080/"
        },
        "outputId": "eb63f40f-2f5a-4cbc-a07f-90f0a0e17c32"
      },
      "execution_count": 99,
      "outputs": [
        {
          "output_type": "stream",
          "name": "stdout",
          "text": [
            "[[[0 1]\n",
            "  [2 3]]\n",
            "\n",
            " [[4 5]\n",
            "  [6 7]]]\n"
          ]
        }
      ]
    },
    {
      "cell_type": "code",
      "source": [
        "a = a.T\n",
        "a"
      ],
      "metadata": {
        "colab": {
          "base_uri": "https://localhost:8080/"
        },
        "id": "lCC2A86dMjZJ",
        "outputId": "bca1f9e2-e585-4992-d1d4-368631d1bbb4"
      },
      "execution_count": 98,
      "outputs": [
        {
          "output_type": "execute_result",
          "data": {
            "text/plain": [
              "array([[[0, 4],\n",
              "        [2, 6]],\n",
              "\n",
              "       [[1, 5],\n",
              "        [3, 7]]])"
            ]
          },
          "metadata": {},
          "execution_count": 98
        }
      ]
    },
    {
      "cell_type": "code",
      "source": [
        "a = a.transpose((1,0,2))\n",
        "a"
      ],
      "metadata": {
        "colab": {
          "base_uri": "https://localhost:8080/"
        },
        "id": "77dwIlz-MmrW",
        "outputId": "1c664797-58a9-4a7f-f117-cbb8d7e86ca3"
      },
      "execution_count": 101,
      "outputs": [
        {
          "output_type": "execute_result",
          "data": {
            "text/plain": [
              "array([[[0, 1],\n",
              "        [4, 5]],\n",
              "\n",
              "       [[2, 3],\n",
              "        [6, 7]]])"
            ]
          },
          "metadata": {},
          "execution_count": 101
        }
      ]
    }
  ]
}